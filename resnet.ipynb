{
 "cells": [
  {
   "cell_type": "code",
   "execution_count": 1,
   "metadata": {},
   "outputs": [],
   "source": [
    "import glob\n",
    "\n",
    "import cv2\n",
    "import matplotlib.pyplot as plt\n",
    "import numpy as np\n",
    "import imutils\n",
    "\n",
    "import torch\n",
    "from torch import nn\n",
    "from torch.utils.data import Dataset, DataLoader\n",
    "\n",
    "from pathlib import Path\n",
    "\n",
    "from torchvision.models import resnet18\n",
    "import torchvision.transforms as transforms\n",
    "\n",
    "import torch.optim as optim\n",
    "\n"
   ]
  },
  {
   "cell_type": "markdown",
   "metadata": {},
   "source": [
    "# Model"
   ]
  },
  {
   "cell_type": "code",
   "execution_count": 2,
   "metadata": {},
   "outputs": [],
   "source": [
    "class DigitClassifier(nn.Module):\n",
    "    \n",
    "    def __init__(self, n_cls=16, in_feat=28*28):\n",
    "        super().__init__()\n",
    "        \n",
    "        resnet = resnet18()\n",
    "        self.feature = nn.Sequential(*list(resnet.children())[:-3])\n",
    "        self.avgpool = nn.AdaptiveAvgPool2d(1)\n",
    "        self.flatten = nn.Flatten()\n",
    "        self.fc = nn.Sequential(\n",
    "            nn.Linear(256, 512, bias=True),\n",
    "            nn.Sigmoid(),\n",
    "            nn.Linear(512, n_cls)\n",
    "        )\n",
    "        \n",
    "    def forward(self, x):\n",
    "        out = self.feature(x)\n",
    "        out = self.avgpool(out)\n",
    "        out = self.flatten(out)\n",
    "        out = self.fc(out)\n",
    "        return out"
   ]
  },
  {
   "cell_type": "code",
   "execution_count": 3,
   "metadata": {},
   "outputs": [],
   "source": [
    "class SymbolsDataset(Dataset):\n",
    "    \n",
    "    def __init__(self, path2npdata: Path, transform=None):\n",
    "        \n",
    "        self.data = np.load(path2npdata, allow_pickle=True)\n",
    "        self.data = self.data.copy()\n",
    "        self.labels_dict = {'+': '10', '-': '11', '*': '12', '%': '13', '[': '14', ']': '15'}\n",
    "        self.transform = transform\n",
    "        self.images = self.data[:, 0]\n",
    "        self.labels = self.data[:, 1]\n",
    "\n",
    "    def __len__(self):\n",
    "        return len(self.data)\n",
    "    \n",
    "    def __getitem__(self, idx):\n",
    "        \n",
    "        img = (self.images[idx]).astype(np.float32)\n",
    "        label = self.labels[idx]\n",
    "        label = eval(self.labels_dict[label] if label in self.labels_dict else label)\n",
    "        # img = img / 255.  # normalize image to range [0, 1]\n",
    "        img = np.dstack((img, img, img))\n",
    "        if self.transform:\n",
    "            img = self.transform(img)\n",
    "        return img, label"
   ]
  },
  {
   "cell_type": "markdown",
   "metadata": {},
   "source": [
    "### Useful functions"
   ]
  },
  {
   "cell_type": "code",
   "execution_count": 50,
   "metadata": {},
   "outputs": [],
   "source": [
    "def multi_plotter(arrs, predds=None, num=None):\n",
    "\n",
    "    fig, ax = plt.subplots(1, len(arrs), figsize=(15, 10))\n",
    "    for i, imgg in enumerate(arrs):\n",
    "        ax[i].imshow(imgg)\n",
    "        if predds:\n",
    "            ax[i].set_title(f'Predicted: {predds[i]}')\n",
    "    if num:\n",
    "        plt.savefig('out'+num)\n",
    "    plt.show()\n",
    "\n",
    "\n",
    "def converter(arr):\n",
    "    symbols = {10: '+', 11: '-', 12: '*', 13: '/', 14: '(', 15: ')'}\n",
    "    for i, j in enumerate(arr):\n",
    "        if j in symbols.keys():\n",
    "            arr[i] = symbols[j]\n",
    "\n",
    "    arr = list(map(str, arr))\n",
    "    eq = ''.join(arr)\n",
    "    return eq\n",
    "\n",
    "\n",
    "def bbox_creator(imgg):\n",
    "\n",
    "    blurred = cv2.GaussianBlur(imgg, (7, 7), 0)\n",
    "    edged = cv2.Canny(blurred, 30, 150)\n",
    "    contours = cv2.findContours(edged, cv2.RETR_EXTERNAL, cv2.CHAIN_APPROX_SIMPLE)[0]\n",
    "\n",
    "    # Create a copy of the original image to display the output rectangles\n",
    "    output = imgg.copy()\n",
    "    output = cv2.cvtColor(output, cv2.COLOR_GRAY2BGR)\n",
    "\n",
    "    bounding_boxes_list = []\n",
    "    # Loop through contours calculating the bounding rectangles and plotting them\n",
    "    for c in contours:\n",
    "        x, y, w, h = cv2.boundingRect(c)\n",
    "        x1, y1 = x, y\n",
    "        x2, y2 = x + w, y + h\n",
    "        if w * h > 100:  # погрешность чекинг\n",
    "            bounding_boxes_list.append([x1, y1, x2, y2])\n",
    "            cv2.rectangle(output, (x,y), (x+w, y+h), (255, 55, 100), 5)\n",
    "\n",
    "    return output, bounding_boxes_list   \n",
    "\n",
    "\n",
    "def cropper_f1(imgg, bboxes_list, bb=None):\n",
    "    cropps = []\n",
    "    for bbox in bboxes_list:\n",
    "        x1, y1, x2, y2 = bbox\n",
    "        cropp = imgg[y1:y2, x1:x2]\n",
    "        \n",
    "        cropp =imutils.resize(cropp, height=28, width=28, inter=cv2.INTER_AREA)\n",
    "\n",
    "        # для правильного решэйпа\n",
    "        max_n = max(cropp.shape)\n",
    "        new_h, new_w = cropp.shape\n",
    "        h1 = int((max_n-new_h)/2)\n",
    "        h2 = max_n-new_h - h1\n",
    "        w1 = int((max_n-new_w)/2)\n",
    "        w2 = max_n-new_w - w1\n",
    "        cropp = np.pad(cropp, ((h1, h2), (w1, w2)), mode='constant', constant_values=0)\n",
    "        cropp=imutils.resize(cropp, height=28, width=28, inter=cv2.INTER_AREA)\n",
    "        cropp = (cropp > 1).astype(float)\n",
    "        cropps.append(cropp)\n",
    "\n",
    "    # sort crops по координате X\n",
    "    crops_coords = list(zip(cropps, bboxes_list))\n",
    "    sorted_crops = sorted(crops_coords, key=lambda x: x[1][0])\n",
    "\n",
    "\n",
    "    sorted_crops_f = [sorted_crops[0][0]]\n",
    "    lenght = len(sorted_crops)\n",
    "    for i in range(1, lenght):\n",
    "        if sorted_crops[i][1][2] >= sorted_crops[i-1][1][2]:\n",
    "            sorted_crops_f.append(sorted_crops[i][0])\n",
    "    return sorted_crops_f\n",
    "\n",
    "\n",
    "def load_model(net, path2pth: str, device=torch.device(\"cpu\")):\n",
    "    state_dict = torch.load(path2pth, map_location=device)\n",
    "    net.load_state_dict(state_dict)\n",
    "    return net"
   ]
  },
  {
   "cell_type": "markdown",
   "metadata": {},
   "source": [
    "## Train and Test data loading"
   ]
  },
  {
   "cell_type": "code",
   "execution_count": 5,
   "metadata": {},
   "outputs": [],
   "source": [
    "path2train = r\"CompleteDataSet_training_tuples.npy\"\n",
    "path2test = r\"CompleteDataSet_testing_tuples.npy\""
   ]
  },
  {
   "cell_type": "markdown",
   "metadata": {},
   "source": [
    "## Training"
   ]
  },
  {
   "cell_type": "code",
   "execution_count": 6,
   "metadata": {},
   "outputs": [],
   "source": [
    "transform = transforms.Compose([transforms.ToTensor()])\n",
    "\n",
    "batch_size = 256\n",
    "\n",
    "trainset = SymbolsDataset(path2train, transform=transform)\n",
    "testset = SymbolsDataset(path2test, transform=transform)\n",
    "\n",
    "trainloader = DataLoader(trainset, batch_size=batch_size, shuffle=True, num_workers=0)\n",
    "testloader = DataLoader(testset, batch_size=batch_size, shuffle=False, num_workers=0)"
   ]
  },
  {
   "cell_type": "code",
   "execution_count": 7,
   "metadata": {},
   "outputs": [],
   "source": [
    "net = DigitClassifier(n_cls=16)\n",
    "criterion = nn.CrossEntropyLoss()\n",
    "optimizer = optim.SGD(net.parameters(), lr=0.001, momentum=0.9)\n",
    "device = torch.device(\"cuda\") if torch.cuda.is_available() else torch.device(\"cpu\")\n",
    "\n",
    "net = net.to(device)\n",
    "net = net.train()"
   ]
  },
  {
   "cell_type": "code",
   "execution_count": 12,
   "metadata": {},
   "outputs": [
    {
     "name": "stdout",
     "output_type": "stream",
     "text": [
      "[1] loss: 1715.1062915325165\n",
      "[2] loss: 650.0417755842209\n",
      "[3] loss: 273.7460168302059\n",
      "[4] loss: 166.89165088534355\n",
      "[5] loss: 124.50347953289747\n",
      "[6] loss: 101.90878967940807\n",
      "[7] loss: 86.44276627898216\n",
      "[8] loss: 75.75894201919436\n",
      "[9] loss: 67.40757062658668\n",
      "[10] loss: 60.68202742934227\n",
      "Finished Training\n"
     ]
    }
   ],
   "source": [
    "# train loop\n",
    "\n",
    "for epoch in range(10):\n",
    "    break  # uncomment when needed\n",
    "    running_loss = 0.0\n",
    "    for i, data in enumerate(trainloader, 0):\n",
    "        # get the inputs; data is a list of [inputs, labels]\n",
    "        inputs, labels = data\n",
    "        \n",
    "        # labels = labels.type(torch.LongTensor)   # casting to long\n",
    "        inputs, labels = inputs.to(device), labels.to(device)\n",
    "        \n",
    "        optimizer.zero_grad()\n",
    "\n",
    "        \n",
    "        outputs = net(inputs)\n",
    "        loss = criterion(outputs, labels)\n",
    "        loss.backward()\n",
    "        optimizer.step()\n",
    "\n",
    "        # print statistics\n",
    "        running_loss += loss.item()\n",
    "\n",
    "    print(f'[{epoch + 1}] loss: {running_loss}')\n",
    "    \n",
    "\n",
    "print('Finished Training')\n",
    "\n",
    "path2save = \"./model.pth\"\n",
    "torch.save(net.state_dict(), path2save)\n",
    "print(f\"Model saved to: {Path(path2save.absolute())}\")"
   ]
  },
  {
   "cell_type": "code",
   "execution_count": 8,
   "metadata": {},
   "outputs": [],
   "source": [
    "net = load_model(net, \"model.pth\", device=device)"
   ]
  },
  {
   "cell_type": "code",
   "execution_count": 9,
   "metadata": {},
   "outputs": [
    {
     "name": "stdout",
     "output_type": "stream",
     "text": [
      "Accuracy of the network on the 10000 test images: 97 %\n"
     ]
    }
   ],
   "source": [
    "correct = 0\n",
    "total = 0\n",
    "with torch.no_grad():\n",
    "    for data in testloader:\n",
    "        images, labels = data\n",
    "        images, labels = images.to(device), labels.to(device)\n",
    "        outputs = net(images)\n",
    "        _, predicted = torch.max(outputs.data, 1)\n",
    "        total += labels.size(0)\n",
    "        correct += (predicted == labels).sum().item()\n",
    "\n",
    "print(f'Accuracy of the network on the 10000 test images: {100 * correct // total} %')"
   ]
  },
  {
   "cell_type": "markdown",
   "metadata": {},
   "source": [
    "## Test on real images"
   ]
  },
  {
   "cell_type": "code",
   "execution_count": 20,
   "metadata": {},
   "outputs": [],
   "source": [
    "# function for load the tests\n",
    "\n",
    "def tester(net, test_img, crops):\n",
    "    net.to(device)\n",
    "    net.eval()\n",
    "    predicted_list = []\n",
    "    with torch.no_grad():\n",
    "        for img in crops:\n",
    "            img = img.astype(np.float32)\n",
    "            t_img = np.stack((test_img, test_img, test_img))\n",
    "            t_img = torch.from_numpy(t_img).unsqueeze(0)\n",
    "            \n",
    "            out = net(t_img.to(device))\n",
    "\n",
    "            _, predicted = torch.max(out.data, 1)\n",
    "            predicted_list.append(predicted.cpu().numpy()[0])\n",
    "    return predicted_list"
   ]
  },
  {
   "cell_type": "markdown",
   "metadata": {},
   "source": [
    "### Step-by-step test"
   ]
  },
  {
   "cell_type": "code",
   "execution_count": 54,
   "metadata": {},
   "outputs": [
    {
     "data": {
      "image/png": "[encoded data removed]",
      "text/plain": [
       "<Figure size 640x480 with 1 Axes>"
      ]
     },
     "metadata": {},
     "output_type": "display_data"
    },
    {
     "data": {
      "image/png": "[encoded data removed]",
      "text/plain": [
       "<Figure size 1500x1000 with 6 Axes>"
      ]
     },
     "metadata": {},
     "output_type": "display_data"
    }
   ],
   "source": [
    "# test 1\n",
    "test_1 = cv2.imread('tests/test_3.png', 0)\n",
    "test_1 = 255 - test_1\n",
    "\n",
    "output_bb_1, bboxes_1 = bbox_creator(test_1)\n",
    "plt.imshow(output_bb_1, cmap='gray')\n",
    "plt.show()\n",
    "crops_1 = cropper_f1(test_1, bboxes_1)\n",
    "multi_plotter(crops_1)\n",
    "plt.show()"
   ]
  },
  {
   "cell_type": "markdown",
   "metadata": {},
   "source": [
    "----"
   ]
  },
  {
   "cell_type": "markdown",
   "metadata": {},
   "source": [
    "Not always bboxes are recognized well. Sometimes there are overlaps. But the algo which filters this overlaps is located in cropper (func), thats why in this step you can only see not final version of bboxes, but they are filterred in the next step."
   ]
  },
  {
   "cell_type": "code",
   "execution_count": 53,
   "metadata": {},
   "outputs": [
    {
     "data": {
      "image/png": "[encoded data removed]",
      "text/plain": [
       "<Figure size 640x480 with 1 Axes>"
      ]
     },
     "metadata": {},
     "output_type": "display_data"
    },
    {
     "data": {
      "image/png": "[encoded data removed]",
      "text/plain": [
       "<Figure size 1500x1000 with 6 Axes>"
      ]
     },
     "metadata": {},
     "output_type": "display_data"
    }
   ],
   "source": [
    "# test bad bboxes\n",
    "test_b = cv2.imread('tests/test_2.png', 0)\n",
    "test_b = 255 - test_b\n",
    "\n",
    "output_bb_b, bboxes_b = bbox_creator(test_b)\n",
    "plt.imshow(output_bb_b, cmap='gray')\n",
    "plt.show()\n",
    "crops_b = cropper_f1(test_b, bboxes_b)\n",
    "multi_plotter(crops_b)\n",
    "plt.show()"
   ]
  },
  {
   "cell_type": "markdown",
   "metadata": {},
   "source": [
    "----"
   ]
  },
  {
   "cell_type": "code",
   "execution_count": 55,
   "metadata": {},
   "outputs": [],
   "source": [
    "net.to(device)\n",
    "net.eval()\n",
    "predicted_list = []\n",
    "with torch.no_grad():\n",
    "    for img in crops_1:\n",
    "        img = img.astype(np.float32)\n",
    "        t_img = np.stack((img, img, img))\n",
    "        t_img = torch.from_numpy(t_img).unsqueeze(0)\n",
    "        \n",
    "        out = net(t_img.to(device))\n",
    "\n",
    "        _, predicted = torch.max(out.data, 1)\n",
    "        predicted_list.append(predicted.cpu().numpy()[0])\n",
    "\n",
    "predicts = converter(predicted_list)"
   ]
  },
  {
   "cell_type": "code",
   "execution_count": 56,
   "metadata": {},
   "outputs": [
    {
     "data": {
      "image/png": "[encoded data removed]",
      "text/plain": [
       "<Figure size 1500x1000 with 6 Axes>"
      ]
     },
     "metadata": {},
     "output_type": "display_data"
    }
   ],
   "source": [
    "multi_plotter(crops_1, predds=predicts)"
   ]
  },
  {
   "cell_type": "code",
   "execution_count": 58,
   "metadata": {},
   "outputs": [
    {
     "name": "stdout",
     "output_type": "stream",
     "text": [
      "2+3*45=137\n"
     ]
    }
   ],
   "source": [
    "print(f'{predicts}={eval(predicts)}')"
   ]
  },
  {
   "cell_type": "markdown",
   "metadata": {},
   "source": [
    "# Thats all. Thank you :)"
   ]
  }
 ],
 "metadata": {
  "kernelspec": {
   "display_name": "pytorch",
   "language": "python",
   "name": "python3"
  },
  "language_info": {
   "codemirror_mode": {
    "name": "ipython",
    "version": 3
   },
   "file_extension": ".py",
   "mimetype": "text/x-python",
   "name": "python",
   "nbconvert_exporter": "python",
   "pygments_lexer": "ipython3",
   "version": "3.11.5"
  }
 },
 "nbformat": 4,
 "nbformat_minor": 2
}
